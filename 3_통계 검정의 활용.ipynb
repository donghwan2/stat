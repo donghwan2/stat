{
 "cells": [
  {
   "cell_type": "code",
   "execution_count": 1,
   "id": "f21160cd",
   "metadata": {},
   "outputs": [],
   "source": [
    "import pandas as pd\n",
    "import numpy as np\n",
    "\n",
    "# 그래프 라이브러리\n",
    "import matplotlib.pyplot as plt\n",
    "import seaborn as sns\n",
    "\n",
    "# 과학 라이브러리\n",
    "from scipy import stats\n",
    "\n",
    "# 워닝 무시\n",
    "import warnings\n",
    "warnings.filterwarnings('ignore')"
   ]
  },
  {
   "cell_type": "code",
   "execution_count": 2,
   "id": "db88d2c0",
   "metadata": {
    "scrolled": true
   },
   "outputs": [
    {
     "name": "stdout",
     "output_type": "stream",
     "text": [
      "0.1\n",
      "31400.0\n"
     ]
    }
   ],
   "source": [
    "# e : 10의 지수승\n",
    "print(1e-1)\n",
    "print(3.14e+4)"
   ]
  },
  {
   "cell_type": "markdown",
   "id": "9104e013",
   "metadata": {},
   "source": [
    "# 1. 아들키 평균 검정"
   ]
  },
  {
   "cell_type": "code",
   "execution_count": 3,
   "id": "d65c10c3",
   "metadata": {},
   "outputs": [],
   "source": [
    "df_heights = pd.read_csv('data/heights.csv')"
   ]
  },
  {
   "cell_type": "code",
   "execution_count": 4,
   "id": "ad5ed171",
   "metadata": {},
   "outputs": [
    {
     "data": {
      "text/plain": [
       "174.45753692820037"
      ]
     },
     "execution_count": 4,
     "metadata": {},
     "output_type": "execute_result"
    }
   ],
   "source": [
    "# 아들키 평균\n",
    "h_mean = df_heights['son'].mean()\n",
    "h_mean"
   ]
  },
  {
   "cell_type": "code",
   "execution_count": 5,
   "id": "2f18e12d",
   "metadata": {
    "scrolled": true
   },
   "outputs": [],
   "source": [
    "h_std = df_heights['son'].std()     # 표준편차\n",
    "h_cnt = df_heights['son'].count()   # 관측치 수"
   ]
  },
  {
   "cell_type": "code",
   "execution_count": 6,
   "id": "9cd31538",
   "metadata": {},
   "outputs": [],
   "source": [
    "# Q. 아들키 평균은 전국 20대 남성 평균키인 174와 통계적으로 다르다고 말할 수 있나?\n",
    "# 귀무가설 : 아들키 평균은 174와 같다.(차이가 없다)\n",
    "# 대립가설 : 아들키 평균은 174보다 크다.\n",
    "# 유의 수준은 5%(0.05)"
   ]
  },
  {
   "cell_type": "code",
   "execution_count": 7,
   "id": "662c6c83",
   "metadata": {},
   "outputs": [
    {
     "data": {
      "text/plain": [
       "array([176.4304133 , 182.06596495, 172.98366866, ..., 179.96443223,\n",
       "       174.28728609, 165.45076483])"
      ]
     },
     "execution_count": 7,
     "metadata": {},
     "output_type": "execute_result"
    }
   ],
   "source": [
    "# (평균이 174인 분포에서 추출한) 랜덤 키 데이터 표본\n",
    "np.random.normal(174, h_std, h_cnt)"
   ]
  },
  {
   "cell_type": "code",
   "execution_count": 8,
   "id": "2985911b",
   "metadata": {},
   "outputs": [
    {
     "data": {
      "text/plain": [
       "173.6806816617853"
      ]
     },
     "execution_count": 8,
     "metadata": {},
     "output_type": "execute_result"
    }
   ],
   "source": [
    "# 표본 평균\n",
    "np.random.normal(174, h_std, h_cnt).mean()   "
   ]
  },
  {
   "cell_type": "code",
   "execution_count": 9,
   "id": "892c3582",
   "metadata": {
    "scrolled": true
   },
   "outputs": [],
   "source": [
    "# 10,000번 표본 추출 후 평균 10,000개로 히스토그램 분포 그리기\n",
    "fake_mean = []\n",
    "for i in range(10000):\n",
    "    fake_mean.append(np.random.normal(174, h_std, h_cnt).mean())\n",
    "# fake_mean  # 10000개의 표본 평균들이 들어있는 리스트"
   ]
  },
  {
   "cell_type": "code",
   "execution_count": 10,
   "id": "10a9d492",
   "metadata": {},
   "outputs": [
    {
     "data": {
      "image/png": "[encoded data removed]",
      "text/plain": [
       "<Figure size 640x480 with 1 Axes>"
      ]
     },
     "metadata": {},
     "output_type": "display_data"
    }
   ],
   "source": [
    "# 가짜 키 표본 평균 10000개의 히스토그램\n",
    "sns.histplot(x=fake_mean);"
   ]
  },
  {
   "cell_type": "code",
   "execution_count": 11,
   "id": "85f62459",
   "metadata": {},
   "outputs": [],
   "source": [
    "# 대부분의 가짜 키 데이터의 평균들은 실제 아들키 평균(174.45)보다 작다."
   ]
  },
  {
   "cell_type": "code",
   "execution_count": 12,
   "id": "e399fdb6",
   "metadata": {},
   "outputs": [
    {
     "data": {
      "text/plain": [
       "178"
      ]
     },
     "execution_count": 12,
     "metadata": {},
     "output_type": "execute_result"
    }
   ],
   "source": [
    "h1 = np.sum(np.array(fake_mean) > h_mean )  # 100~300개 사이\n",
    "h1"
   ]
  },
  {
   "cell_type": "code",
   "execution_count": 13,
   "id": "b2bdfd91",
   "metadata": {},
   "outputs": [
    {
     "data": {
      "text/plain": [
       "0.0178"
      ]
     },
     "execution_count": 13,
     "metadata": {},
     "output_type": "execute_result"
    }
   ],
   "source": [
    "h1/10000  # 1~3% => (5% 기준으로) 굉장히 희박한 확률"
   ]
  },
  {
   "cell_type": "code",
   "execution_count": 14,
   "id": "7c8c756c",
   "metadata": {},
   "outputs": [],
   "source": [
    "# 해석 : 가짜 평균 데이터(10000개) 중 실제 평균키 174.45 보다 큰 것이 1xx 밖에 없음.\n",
    "# 결론 : 우리가 가진 아들키는 174보다 유의미하게 크다고 말할 수 있다."
   ]
  },
  {
   "cell_type": "markdown",
   "id": "7fc52d8f",
   "metadata": {},
   "source": [
    "# 2. 두 그룹 차이 검정(t-test와 비모수 검정)"
   ]
  },
  {
   "cell_type": "code",
   "execution_count": 15,
   "id": "06da1e99",
   "metadata": {},
   "outputs": [],
   "source": [
    "# Q. 남자 독해점수와 여자 독해점수 차이 검정"
   ]
  },
  {
   "cell_type": "code",
   "execution_count": 16,
   "id": "69daf345",
   "metadata": {},
   "outputs": [],
   "source": [
    "# 귀무가설 : 두 그룹은 차이가 없다.\n",
    "# 대립가설 : 두 그룹은 차이가 있다.\n",
    "# 유의수준은 0.05"
   ]
  },
  {
   "cell_type": "code",
   "execution_count": 17,
   "id": "c23200a7",
   "metadata": {},
   "outputs": [
    {
     "name": "stdout",
     "output_type": "stream",
     "text": [
      "(1000, 8)\n"
     ]
    },
    {
     "data": {
      "text/html": [
       "<div>\n",
       "<style scoped>\n",
       "    .dataframe tbody tr th:only-of-type {\n",
       "        vertical-align: middle;\n",
       "    }\n",
       "\n",
       "    .dataframe tbody tr th {\n",
       "        vertical-align: top;\n",
       "    }\n",
       "\n",
       "    .dataframe thead th {\n",
       "        text-align: right;\n",
       "    }\n",
       "</style>\n",
       "<table border=\"1\" class=\"dataframe\">\n",
       "  <thead>\n",
       "    <tr style=\"text-align: right;\">\n",
       "      <th></th>\n",
       "      <th>sex</th>\n",
       "      <th>race/ethnicity</th>\n",
       "      <th>parental level of education</th>\n",
       "      <th>lunch</th>\n",
       "      <th>test preparation course</th>\n",
       "      <th>math score</th>\n",
       "      <th>reading score</th>\n",
       "      <th>writing score</th>\n",
       "    </tr>\n",
       "  </thead>\n",
       "  <tbody>\n",
       "    <tr>\n",
       "      <th>0</th>\n",
       "      <td>female</td>\n",
       "      <td>group B</td>\n",
       "      <td>bachelor's degree</td>\n",
       "      <td>standard</td>\n",
       "      <td>none</td>\n",
       "      <td>72</td>\n",
       "      <td>72</td>\n",
       "      <td>74</td>\n",
       "    </tr>\n",
       "    <tr>\n",
       "      <th>1</th>\n",
       "      <td>female</td>\n",
       "      <td>group C</td>\n",
       "      <td>some college</td>\n",
       "      <td>standard</td>\n",
       "      <td>completed</td>\n",
       "      <td>69</td>\n",
       "      <td>90</td>\n",
       "      <td>88</td>\n",
       "    </tr>\n",
       "    <tr>\n",
       "      <th>2</th>\n",
       "      <td>female</td>\n",
       "      <td>group B</td>\n",
       "      <td>master's degree</td>\n",
       "      <td>standard</td>\n",
       "      <td>none</td>\n",
       "      <td>90</td>\n",
       "      <td>95</td>\n",
       "      <td>93</td>\n",
       "    </tr>\n",
       "  </tbody>\n",
       "</table>\n",
       "</div>"
      ],
      "text/plain": [
       "      sex race/ethnicity parental level of education     lunch  \\\n",
       "0  female        group B           bachelor's degree  standard   \n",
       "1  female        group C                some college  standard   \n",
       "2  female        group B             master's degree  standard   \n",
       "\n",
       "  test preparation course  math score  reading score  writing score  \n",
       "0                    none          72             72             74  \n",
       "1               completed          69             90             88  \n",
       "2                    none          90             95             93  "
      ]
     },
     "execution_count": 17,
     "metadata": {},
     "output_type": "execute_result"
    }
   ],
   "source": [
    "df_sp = pd.read_csv('data/StudentsPerformance.csv')\n",
    "\n",
    "print(df_sp.shape)\n",
    "df_sp.head(3)"
   ]
  },
  {
   "cell_type": "code",
   "execution_count": 18,
   "id": "8a95fc01",
   "metadata": {
    "scrolled": true
   },
   "outputs": [
    {
     "data": {
      "text/plain": [
       "female    518\n",
       "male      482\n",
       "Name: sex, dtype: int64"
      ]
     },
     "execution_count": 18,
     "metadata": {},
     "output_type": "execute_result"
    }
   ],
   "source": [
    "df_sp['sex'].value_counts()"
   ]
  },
  {
   "cell_type": "code",
   "execution_count": 19,
   "id": "f8e86b2b",
   "metadata": {},
   "outputs": [],
   "source": [
    "# 남녀 독해점수 데이터 분리\n",
    "male_score = df_sp[df_sp['sex']=='male']['reading score']\n",
    "female_score = df_sp[df_sp['sex']=='female']['reading score']"
   ]
  },
  {
   "cell_type": "code",
   "execution_count": 20,
   "id": "b17d9e91",
   "metadata": {
    "scrolled": false
   },
   "outputs": [
    {
     "name": "stdout",
     "output_type": "stream",
     "text": [
      "65.47302904564316\n",
      "72.60810810810811\n"
     ]
    }
   ],
   "source": [
    "# 남녀 독해점수 평균 계산\n",
    "print(np.mean(male_score))\n",
    "print(np.mean(female_score))"
   ]
  },
  {
   "cell_type": "code",
   "execution_count": 21,
   "id": "a8066aa5",
   "metadata": {},
   "outputs": [
    {
     "data": {
      "text/plain": [
       "(ShapiroResult(statistic=0.9946241974830627, pvalue=0.08971262723207474),\n",
       " ShapiroResult(statistic=0.9854975342750549, pvalue=4.9607144319452345e-05))"
      ]
     },
     "execution_count": 21,
     "metadata": {},
     "output_type": "execute_result"
    }
   ],
   "source": [
    "# 데이터들의 정규성 검정(귀무가설 : 정규분포를 따른다)\n",
    "stats.shapiro(male_score), stats.shapiro(female_score)"
   ]
  },
  {
   "cell_type": "code",
   "execution_count": 22,
   "id": "9b0ab72a",
   "metadata": {},
   "outputs": [],
   "source": [
    "# => 여자 독해점수는 정규분포를 따르지 않는다."
   ]
  },
  {
   "cell_type": "code",
   "execution_count": 23,
   "id": "81075839",
   "metadata": {},
   "outputs": [
    {
     "data": {
      "text/plain": [
       "RanksumsResult(statistic=-7.816067379633199, pvalue=5.449920986376782e-15)"
      ]
     },
     "execution_count": 23,
     "metadata": {},
     "output_type": "execute_result"
    }
   ],
   "source": [
    "# (비모수 검정)윌콕슨 순위합 검정\n",
    "stats.ranksums(male_score, female_score)"
   ]
  },
  {
   "cell_type": "code",
   "execution_count": 24,
   "id": "a7f9d806",
   "metadata": {},
   "outputs": [],
   "source": [
    "# 통계적 해석 : p-value < 0.05 => 대립가설 채택.\n",
    "# 결론 : 남자 독해점수와 여자 독해점수 차이가 있다."
   ]
  },
  {
   "cell_type": "code",
   "execution_count": 25,
   "id": "c8689667",
   "metadata": {},
   "outputs": [],
   "source": [
    "# (정규성 만족 가정)"
   ]
  },
  {
   "cell_type": "code",
   "execution_count": 26,
   "id": "85ee0254",
   "metadata": {},
   "outputs": [
    {
     "data": {
      "text/plain": [
       "BartlettResult(statistic=0.4947914902633937, pvalue=0.4817976802944669)"
      ]
     },
     "execution_count": 26,
     "metadata": {},
     "output_type": "execute_result"
    }
   ],
   "source": [
    "# 등분산 검정(=> p-value > 0.05, 등분산 만족)\n",
    "stats.bartlett(male_score, female_score)"
   ]
  },
  {
   "cell_type": "code",
   "execution_count": 27,
   "id": "7ac0da9d",
   "metadata": {},
   "outputs": [
    {
     "data": {
      "text/plain": [
       "Ttest_indResult(statistic=-7.959308005187657, pvalue=4.680538743933289e-15)"
      ]
     },
     "execution_count": 27,
     "metadata": {},
     "output_type": "execute_result"
    }
   ],
   "source": [
    "# 독립 표본 t-test \n",
    "stats.ttest_ind(male_score, female_score, equal_var=True)"
   ]
  },
  {
   "cell_type": "code",
   "execution_count": 28,
   "id": "597307e5",
   "metadata": {},
   "outputs": [],
   "source": [
    "# 통계적 해석 : p-value < 0.05 => 대립가설 채택.\n",
    "# 결론 : 남자 독해점수와 여자 독해점수 차이가 있다."
   ]
  },
  {
   "cell_type": "markdown",
   "id": "c1f81c76",
   "metadata": {},
   "source": [
    "#### [실습] 두 그룹의 평균 비교 및 검정"
   ]
  },
  {
   "cell_type": "code",
   "execution_count": 29,
   "id": "693c4acd",
   "metadata": {},
   "outputs": [],
   "source": [
    "# 1. '남자 수학점수'와 '여자 수학점수' 데이터를 생성 후 각각 변수로 저장\n",
    "# 2. 성별 평균 수학점수 계산\n",
    "# 3. shapiro 정규성 검정 후 결과에 따라 두 그룹 차이 검정 수행 \n",
    "# 4. 정규성 가정하고 독립 표본 t검정 수행"
   ]
  },
  {
   "cell_type": "code",
   "execution_count": null,
   "id": "765a99fc",
   "metadata": {},
   "outputs": [],
   "source": []
  },
  {
   "cell_type": "code",
   "execution_count": null,
   "id": "d5f3dafb",
   "metadata": {},
   "outputs": [],
   "source": []
  },
  {
   "cell_type": "code",
   "execution_count": null,
   "id": "49ae677d",
   "metadata": {},
   "outputs": [],
   "source": []
  },
  {
   "cell_type": "code",
   "execution_count": null,
   "id": "0a456f8d",
   "metadata": {},
   "outputs": [],
   "source": []
  },
  {
   "cell_type": "code",
   "execution_count": null,
   "id": "dd404a18",
   "metadata": {},
   "outputs": [],
   "source": []
  },
  {
   "cell_type": "markdown",
   "id": "b5ad1ac2",
   "metadata": {},
   "source": [
    "# 3. 분산분석(anova) : 세 그룹 이상 차이 검정"
   ]
  },
  {
   "cell_type": "code",
   "execution_count": 35,
   "id": "99dfa7ed",
   "metadata": {},
   "outputs": [],
   "source": [
    "# Q. 보험료 데이터에서 지역이 4개가 있다. 지역 간 보험료(charges)는 차이가 있을까?"
   ]
  },
  {
   "cell_type": "code",
   "execution_count": 36,
   "id": "ca33e951",
   "metadata": {},
   "outputs": [
    {
     "data": {
      "text/plain": [
       "(1338, 7)"
      ]
     },
     "execution_count": 36,
     "metadata": {},
     "output_type": "execute_result"
    }
   ],
   "source": [
    "df_ins = pd.read_csv('data/insurance.csv')\n",
    "df_ins.shape"
   ]
  },
  {
   "cell_type": "code",
   "execution_count": 37,
   "id": "485e5d41",
   "metadata": {
    "scrolled": true
   },
   "outputs": [
    {
     "data": {
      "text/plain": [
       "region\n",
       "northeast    13406.384516\n",
       "northwest    12417.575374\n",
       "southeast    14735.411438\n",
       "southwest    12346.937377\n",
       "Name: charges, dtype: float64"
      ]
     },
     "execution_count": 37,
     "metadata": {},
     "output_type": "execute_result"
    }
   ],
   "source": [
    "# 지역 별 보험료 평균은? groupby\n",
    "df_ins.groupby('region')['charges'].mean()"
   ]
  },
  {
   "cell_type": "markdown",
   "id": "b796bdc9",
   "metadata": {},
   "source": [
    "### 3-1. scipy를 활용한 분산분석"
   ]
  },
  {
   "cell_type": "code",
   "execution_count": 38,
   "id": "3feeae4a",
   "metadata": {},
   "outputs": [],
   "source": [
    "# 데이터를 그룹별로 분할 후 f_oneway() 함수 활용"
   ]
  },
  {
   "cell_type": "code",
   "execution_count": 39,
   "id": "bd8c7894",
   "metadata": {},
   "outputs": [],
   "source": [
    "# 지역별 데이터 분할\n",
    "g1 = df_ins[df_ins['region']=='southeast']['charges']\n",
    "g2 = df_ins[df_ins['region']=='southwest']['charges']\n",
    "g3 = df_ins[df_ins['region']=='northwest']['charges']\n",
    "g4 = df_ins[df_ins['region']=='northeast']['charges']"
   ]
  },
  {
   "cell_type": "code",
   "execution_count": 40,
   "id": "d111842d",
   "metadata": {},
   "outputs": [
    {
     "data": {
      "text/plain": [
       "(ShapiroResult(statistic=0.8242298364639282, pvalue=1.23268419436607e-19),\n",
       " ShapiroResult(statistic=0.7842952609062195, pvalue=2.023667803366432e-20),\n",
       " ShapiroResult(statistic=0.8128032684326172, pvalue=4.268387928586811e-19),\n",
       " ShapiroResult(statistic=0.8353428840637207, pvalue=6.552730011610829e-18))"
      ]
     },
     "execution_count": 40,
     "metadata": {},
     "output_type": "execute_result"
    }
   ],
   "source": [
    "# 정규성 검정(귀무가설 : 정규분포를 따른다.)\n",
    "stats.shapiro(g1), stats.shapiro(g2), stats.shapiro(g3), stats.shapiro(g4)"
   ]
  },
  {
   "cell_type": "code",
   "execution_count": null,
   "id": "5dfe7f0d",
   "metadata": {},
   "outputs": [],
   "source": [
    "# p-value < 0.05  => 대립가설 채택(정규분포를 안 따른다.)\n",
    "# 분산분석 대신, 비모수검정 kruskal을 사용해야 함"
   ]
  },
  {
   "cell_type": "code",
   "execution_count": 45,
   "id": "0fdf0e19",
   "metadata": {},
   "outputs": [
    {
     "data": {
      "text/plain": [
       "KruskalResult(statistic=4.734181215658743, pvalue=0.19232908072121002)"
      ]
     },
     "execution_count": 45,
     "metadata": {},
     "output_type": "execute_result"
    }
   ],
   "source": [
    "# kruskal 비모수 검정\n",
    "stats.kruskal(g1, g2, g3, g4)"
   ]
  },
  {
   "cell_type": "code",
   "execution_count": 46,
   "id": "e61fcf34",
   "metadata": {},
   "outputs": [],
   "source": [
    "# 통계적 해석 : p-value < 0.05 => 대립가설 채택\n",
    "# 결론 : 네 지역의 charges는 유의미한 차이가 있다고 말할 수 없다."
   ]
  },
  {
   "cell_type": "code",
   "execution_count": 48,
   "id": "10f71a75",
   "metadata": {},
   "outputs": [
    {
     "data": {
      "text/plain": [
       "F_onewayResult(statistic=2.96962669358912, pvalue=0.0308933560705201)"
      ]
     },
     "execution_count": 48,
     "metadata": {},
     "output_type": "execute_result"
    }
   ],
   "source": [
    "# (if 정규성, 등분산 가정한다면) f_oneway 함수로 anova 수행\n",
    "stats.f_oneway(g1, g2, g3, g4)"
   ]
  },
  {
   "cell_type": "markdown",
   "id": "34d2e798",
   "metadata": {},
   "source": [
    "# 4. 독립성 검정(카이제곱 검정)"
   ]
  },
  {
   "cell_type": "code",
   "execution_count": 61,
   "id": "c0c9cb61",
   "metadata": {},
   "outputs": [],
   "source": [
    "# Q. 성별(남, 녀) 흡연여부(YES, NO) 간 연관성이 있는지(독립인지)?"
   ]
  },
  {
   "cell_type": "code",
   "execution_count": 62,
   "id": "4c31d8a8",
   "metadata": {},
   "outputs": [],
   "source": [
    "# 독립성 검정\n",
    "# 귀무가설 : 두 변수는 서로 독립이다.\n",
    "# 대립가설 : 두 변수는 서로 독립이 아니다(연관성이 있다.)"
   ]
  },
  {
   "cell_type": "code",
   "execution_count": 63,
   "id": "8f713f5c",
   "metadata": {},
   "outputs": [
    {
     "data": {
      "text/html": [
       "<div>\n",
       "<style scoped>\n",
       "    .dataframe tbody tr th:only-of-type {\n",
       "        vertical-align: middle;\n",
       "    }\n",
       "\n",
       "    .dataframe tbody tr th {\n",
       "        vertical-align: top;\n",
       "    }\n",
       "\n",
       "    .dataframe thead th {\n",
       "        text-align: right;\n",
       "    }\n",
       "</style>\n",
       "<table border=\"1\" class=\"dataframe\">\n",
       "  <thead>\n",
       "    <tr style=\"text-align: right;\">\n",
       "      <th>smoker</th>\n",
       "      <th>no</th>\n",
       "      <th>yes</th>\n",
       "    </tr>\n",
       "    <tr>\n",
       "      <th>sex</th>\n",
       "      <th></th>\n",
       "      <th></th>\n",
       "    </tr>\n",
       "  </thead>\n",
       "  <tbody>\n",
       "    <tr>\n",
       "      <th>female</th>\n",
       "      <td>547</td>\n",
       "      <td>115</td>\n",
       "    </tr>\n",
       "    <tr>\n",
       "      <th>male</th>\n",
       "      <td>517</td>\n",
       "      <td>159</td>\n",
       "    </tr>\n",
       "  </tbody>\n",
       "</table>\n",
       "</div>"
      ],
      "text/plain": [
       "smoker   no  yes\n",
       "sex             \n",
       "female  547  115\n",
       "male    517  159"
      ]
     },
     "execution_count": 63,
     "metadata": {},
     "output_type": "execute_result"
    }
   ],
   "source": [
    "# 교차표\n",
    "agg = pd.crosstab(df_ins['sex'], df_ins['smoker'])\n",
    "agg"
   ]
  },
  {
   "cell_type": "code",
   "execution_count": 64,
   "id": "70af9f4b",
   "metadata": {},
   "outputs": [
    {
     "data": {
      "text/html": [
       "<div>\n",
       "<style scoped>\n",
       "    .dataframe tbody tr th:only-of-type {\n",
       "        vertical-align: middle;\n",
       "    }\n",
       "\n",
       "    .dataframe tbody tr th {\n",
       "        vertical-align: top;\n",
       "    }\n",
       "\n",
       "    .dataframe thead th {\n",
       "        text-align: right;\n",
       "    }\n",
       "</style>\n",
       "<table border=\"1\" class=\"dataframe\">\n",
       "  <thead>\n",
       "    <tr style=\"text-align: right;\">\n",
       "      <th>smoker</th>\n",
       "      <th>no</th>\n",
       "      <th>yes</th>\n",
       "    </tr>\n",
       "    <tr>\n",
       "      <th>sex</th>\n",
       "      <th></th>\n",
       "      <th></th>\n",
       "    </tr>\n",
       "  </thead>\n",
       "  <tbody>\n",
       "    <tr>\n",
       "      <th>female</th>\n",
       "      <td>0.826284</td>\n",
       "      <td>0.173716</td>\n",
       "    </tr>\n",
       "    <tr>\n",
       "      <th>male</th>\n",
       "      <td>0.764793</td>\n",
       "      <td>0.235207</td>\n",
       "    </tr>\n",
       "  </tbody>\n",
       "</table>\n",
       "</div>"
      ],
      "text/plain": [
       "smoker        no       yes\n",
       "sex                       \n",
       "female  0.826284  0.173716\n",
       "male    0.764793  0.235207"
      ]
     },
     "execution_count": 64,
     "metadata": {},
     "output_type": "execute_result"
    }
   ],
   "source": [
    "# 행백분율\n",
    "pd.crosstab(df_ins['sex'], df_ins['smoker'], normalize='index')"
   ]
  },
  {
   "cell_type": "code",
   "execution_count": 65,
   "id": "a443b84d",
   "metadata": {},
   "outputs": [
    {
     "data": {
      "text/plain": [
       "Chi2ContingencyResult(statistic=7.39291081459996, pvalue=0.006548143503580696, dof=1, expected_freq=array([[526.43348281, 135.56651719],\n",
       "       [537.56651719, 138.43348281]]))"
      ]
     },
     "execution_count": 65,
     "metadata": {},
     "output_type": "execute_result"
    }
   ],
   "source": [
    "# 독립성검정(카이제곱검정)\n",
    "stats.chi2_contingency(agg)"
   ]
  },
  {
   "cell_type": "code",
   "execution_count": 66,
   "id": "a335c369",
   "metadata": {},
   "outputs": [],
   "source": [
    "# p-value(0.006) < 0.05 => 대립가설 채택.\n",
    "# 결론 : 성별 흡연여부는 연관성을 보인다."
   ]
  },
  {
   "cell_type": "markdown",
   "id": "7bccdc0a",
   "metadata": {},
   "source": [
    "#### [실습] df_sp 데이터에서 인종별 부모교육수준이 연관성이 있을까?"
   ]
  },
  {
   "cell_type": "code",
   "execution_count": 67,
   "id": "b59f1135",
   "metadata": {},
   "outputs": [],
   "source": [
    "# 1. 'race/ethnicity' 와 'parental level of education' 교차표 만들고 ct 변수에 저장\n",
    "# 2. 독립성 검정"
   ]
  },
  {
   "cell_type": "code",
   "execution_count": 68,
   "id": "c966a699",
   "metadata": {},
   "outputs": [
    {
     "data": {
      "text/html": [
       "<div>\n",
       "<style scoped>\n",
       "    .dataframe tbody tr th:only-of-type {\n",
       "        vertical-align: middle;\n",
       "    }\n",
       "\n",
       "    .dataframe tbody tr th {\n",
       "        vertical-align: top;\n",
       "    }\n",
       "\n",
       "    .dataframe thead th {\n",
       "        text-align: right;\n",
       "    }\n",
       "</style>\n",
       "<table border=\"1\" class=\"dataframe\">\n",
       "  <thead>\n",
       "    <tr style=\"text-align: right;\">\n",
       "      <th></th>\n",
       "      <th>sex</th>\n",
       "      <th>race/ethnicity</th>\n",
       "      <th>parental level of education</th>\n",
       "      <th>lunch</th>\n",
       "      <th>test preparation course</th>\n",
       "      <th>math score</th>\n",
       "      <th>reading score</th>\n",
       "      <th>writing score</th>\n",
       "    </tr>\n",
       "  </thead>\n",
       "  <tbody>\n",
       "    <tr>\n",
       "      <th>0</th>\n",
       "      <td>female</td>\n",
       "      <td>group B</td>\n",
       "      <td>bachelor's degree</td>\n",
       "      <td>standard</td>\n",
       "      <td>none</td>\n",
       "      <td>72</td>\n",
       "      <td>72</td>\n",
       "      <td>74</td>\n",
       "    </tr>\n",
       "  </tbody>\n",
       "</table>\n",
       "</div>"
      ],
      "text/plain": [
       "      sex race/ethnicity parental level of education     lunch  \\\n",
       "0  female        group B           bachelor's degree  standard   \n",
       "\n",
       "  test preparation course  math score  reading score  writing score  \n",
       "0                    none          72             72             74  "
      ]
     },
     "execution_count": 68,
     "metadata": {},
     "output_type": "execute_result"
    }
   ],
   "source": [
    "df_sp = pd.read_csv('data/StudentsPerformance.csv')\n",
    "df_sp.head(1)"
   ]
  },
  {
   "cell_type": "code",
   "execution_count": null,
   "id": "c93eabdb",
   "metadata": {},
   "outputs": [],
   "source": []
  },
  {
   "cell_type": "code",
   "execution_count": null,
   "id": "d539e619",
   "metadata": {},
   "outputs": [],
   "source": []
  },
  {
   "cell_type": "code",
   "execution_count": null,
   "id": "518ec381",
   "metadata": {},
   "outputs": [],
   "source": []
  }
 ],
 "metadata": {
  "kernelspec": {
   "display_name": "Python 3 (ipykernel)",
   "language": "python",
   "name": "python3"
  },
  "language_info": {
   "codemirror_mode": {
    "name": "ipython",
    "version": 3
   },
   "file_extension": ".py",
   "mimetype": "text/x-python",
   "name": "python",
   "nbconvert_exporter": "python",
   "pygments_lexer": "ipython3",
   "version": "3.11.3"
  }
 },
 "nbformat": 4,
 "nbformat_minor": 5
}
